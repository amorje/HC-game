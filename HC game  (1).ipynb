{
 "cells": [
  {
   "cell_type": "code",
   "execution_count": 5,
   "id": "e2219ac2",
   "metadata": {
    "scrolled": true
   },
   "outputs": [
    {
     "data": {
      "image/png": "[encoded data removed]",
      "text/plain": [
       "<Figure size 432x288 with 1 Axes>"
      ]
     },
     "metadata": {
      "needs_background": "light"
     },
     "output_type": "display_data"
    }
   ],
   "source": [
    "import numpy as np\n",
    "import matplotlib.pyplot as plt\n",
    "\n",
    "def simulate_homicidal_chauffeur(target_strategy, chauffeur_strategy, max_time=100, dt=0.1):\n",
    "    # Initial conditions\n",
    "    target_pos = np.array([0, 0])  # Target's initial position\n",
    "    chauffeur_pos = np.array([5, 5])  # Chauffeur's initial position\n",
    "    target_vel = np.array([1, 1])  # Target's initial velocity\n",
    "    chauffeur_vel = np.array([0, 0])  # Chauffeur's initial velocity\n",
    "    \n",
    "    target_vel = target_vel.astype(float)\n",
    "    target_pos = target_pos.astype(float)\n",
    "\n",
    "    chauffeur_vel = chauffeur_vel.astype(float)\n",
    "    chauffeur_pos = chauffeur_pos.astype(float)\n",
    "\n",
    "    \n",
    "    # Simulation variables\n",
    "    time = 0\n",
    "    target_positions = [target_pos.copy()]\n",
    "    chauffeur_positions = [chauffeur_pos.copy()]\n",
    "    \n",
    "    while time <= max_time:\n",
    "        # Update target's strategy\n",
    "        target_input = target_strategy(target_pos, chauffeur_pos, target_vel, chauffeur_vel)\n",
    "        \n",
    "        # Update chauffeur's strategy\n",
    "        chauffeur_input = chauffeur_strategy(chauffeur_pos, target_pos, chauffeur_vel)\n",
    "        \n",
    "        # Update positions and velocities using kinematic equations\n",
    "        target_vel += target_input * dt\n",
    "        target_pos += target_vel * dt\n",
    "        \n",
    "        chauffeur_vel += chauffeur_input * dt\n",
    "        chauffeur_pos += chauffeur_vel * dt\n",
    "        \n",
    "        # Append positions to the trajectory lists\n",
    "        target_positions.append(target_pos.copy())\n",
    "        chauffeur_positions.append(chauffeur_pos.copy())\n",
    "        \n",
    "        if np.linalg.norm(target_pos - chauffeur_pos) <= 0.2:\n",
    "            print(\"Collision occurred!\")\n",
    "            print(time)\n",
    "            break\n",
    "            \n",
    "        time += dt\n",
    "    \n",
    "    # Plotting the trajectories\n",
    "    target_positions = np.array(target_positions)\n",
    "    chauffeur_positions = np.array(chauffeur_positions)\n",
    "    \n",
    "    plt.plot(target_positions[:, 0], target_positions[:, 1], label='Target')\n",
    "    plt.plot(chauffeur_positions[:, 0], chauffeur_positions[:, 1], label='Chauffeur')\n",
    "    plt.scatter(chauffeur_positions[0, 0], chauffeur_positions[0, 1], color='red', label='Start')\n",
    "    plt.scatter(chauffeur_positions[-1, 0], chauffeur_positions[-1, 1], color='green', label='End')\n",
    "    plt.xlabel('X position')\n",
    "    plt.ylabel('Y position')\n",
    "    plt.title('Homicidal Chauffeur Problem Simulation')\n",
    "    plt.legend()\n",
    "    plt.show()\n",
    "\n",
    "# Example strategies\n",
    "def random_target_strategy(target_pos, chauffeur_pos, target_vel, chauffeur_vel):\n",
    "    return np.random.uniform(low=-1, high=1, size=2)\n",
    "\n",
    "def constant_speed_chauffeur_strategy(chauffeur_pos, target_pos, chauffeur_vel):\n",
    "    desired_vel = target_pos - chauffeur_pos\n",
    "    return desired_vel / np.linalg.norm(desired_vel)\n",
    "\n",
    "# Run the simulation\n",
    "simulate_homicidal_chauffeur(random_target_strategy, constant_speed_chauffeur_strategy)\n"
   ]
  },
  {
   "cell_type": "code",
   "execution_count": null,
   "id": "d6934f43",
   "metadata": {},
   "outputs": [],
   "source": []
  },
  {
   "cell_type": "code",
   "execution_count": null,
   "id": "5786c020",
   "metadata": {},
   "outputs": [],
   "source": []
  },
  {
   "cell_type": "code",
   "execution_count": null,
   "id": "6beacc13",
   "metadata": {},
   "outputs": [],
   "source": []
  },
  {
   "cell_type": "code",
   "execution_count": null,
   "id": "6fc9125c",
   "metadata": {},
   "outputs": [],
   "source": []
  },
  {
   "cell_type": "code",
   "execution_count": 1,
   "id": "95e88c34",
   "metadata": {},
   "outputs": [
    {
     "name": "stdout",
     "output_type": "stream",
     "text": [
      "Collecting control\n",
      "  Downloading control-0.9.3.post2-py3-none-any.whl (432 kB)\n",
      "\u001b[2K     \u001b[90m━━━━━━━━━━━━━━━━━━━━━━━━━━━━━━━━━━━━━\u001b[0m \u001b[32m432.8/432.8 kB\u001b[0m \u001b[31m969.5 kB/s\u001b[0m eta \u001b[36m0:00:00\u001b[0m00:01\u001b[0m00:01\u001b[0m\n",
      "\u001b[?25hRequirement already satisfied: scipy>=1.3 in ./opt/anaconda3/lib/python3.9/site-packages (from control) (1.7.3)\n",
      "Requirement already satisfied: matplotlib in ./opt/anaconda3/lib/python3.9/site-packages (from control) (3.5.1)\n",
      "Requirement already satisfied: numpy in ./.local/lib/python3.9/site-packages (from control) (1.24.0)\n",
      "Collecting numpy\n",
      "  Downloading numpy-1.22.4-cp39-cp39-macosx_10_15_x86_64.whl (17.7 MB)\n",
      "\u001b[2K     \u001b[90m━━━━━━━━━━━━━━━━━━━━━━━━━━━━━━━━━━━━━━━━\u001b[0m \u001b[32m17.7/17.7 MB\u001b[0m \u001b[31m6.4 MB/s\u001b[0m eta \u001b[36m0:00:00\u001b[0m00:01\u001b[0m00:01\u001b[0m\n",
      "\u001b[?25hRequirement already satisfied: packaging>=20.0 in ./.local/lib/python3.9/site-packages (from matplotlib->control) (22.0)\n",
      "Requirement already satisfied: kiwisolver>=1.0.1 in ./opt/anaconda3/lib/python3.9/site-packages (from matplotlib->control) (1.3.2)\n",
      "Requirement already satisfied: python-dateutil>=2.7 in ./opt/anaconda3/lib/python3.9/site-packages (from matplotlib->control) (2.8.2)\n",
      "Requirement already satisfied: cycler>=0.10 in ./opt/anaconda3/lib/python3.9/site-packages (from matplotlib->control) (0.11.0)\n",
      "Requirement already satisfied: fonttools>=4.22.0 in ./opt/anaconda3/lib/python3.9/site-packages (from matplotlib->control) (4.25.0)\n",
      "Requirement already satisfied: pyparsing>=2.2.1 in ./opt/anaconda3/lib/python3.9/site-packages (from matplotlib->control) (3.0.4)\n",
      "Requirement already satisfied: pillow>=6.2.0 in ./opt/anaconda3/lib/python3.9/site-packages (from matplotlib->control) (9.0.1)\n",
      "Requirement already satisfied: six>=1.5 in ./opt/anaconda3/lib/python3.9/site-packages (from python-dateutil>=2.7->matplotlib->control) (1.16.0)\n",
      "Installing collected packages: numpy, control\n",
      "  Attempting uninstall: numpy\n",
      "    Found existing installation: numpy 1.24.0\n",
      "    Uninstalling numpy-1.24.0:\n",
      "      Successfully uninstalled numpy-1.24.0\n",
      "\u001b[31mERROR: pip's dependency resolver does not currently take into account all the packages that are installed. This behaviour is the source of the following dependency conflicts.\n",
      "daal4py 2021.5.0 requires daal==2021.4.0, which is not installed.\n",
      "numba 0.55.1 requires numpy<1.22,>=1.18, but you have numpy 1.22.4 which is incompatible.\u001b[0m\u001b[31m\n",
      "\u001b[0mSuccessfully installed control-0.9.3.post2 numpy-1.22.4\n",
      "\n",
      "\u001b[1m[\u001b[0m\u001b[34;49mnotice\u001b[0m\u001b[1;39;49m]\u001b[0m\u001b[39;49m A new release of pip available: \u001b[0m\u001b[31;49m22.3.1\u001b[0m\u001b[39;49m -> \u001b[0m\u001b[32;49m23.1.2\u001b[0m\n",
      "\u001b[1m[\u001b[0m\u001b[34;49mnotice\u001b[0m\u001b[1;39;49m]\u001b[0m\u001b[39;49m To update, run: \u001b[0m\u001b[32;49mpip install --upgrade pip\u001b[0m\n"
     ]
    }
   ],
   "source": [
    "!pip install control"
   ]
  },
  {
   "cell_type": "code",
   "execution_count": 14,
   "id": "1f721c41",
   "metadata": {},
   "outputs": [
    {
     "name": "stdout",
     "output_type": "stream",
     "text": [
      "Collecting casadi\n",
      "  Downloading casadi-3.6.2-cp39-none-macosx_10_13_x86_64.macosx_10_13_intel.whl (40.7 MB)\n",
      "\u001b[2K     \u001b[90m━━━━━━━━━━━━━━━━━━━━━━━━━━━━━━━━━━━━━━━━\u001b[0m \u001b[32m40.7/40.7 MB\u001b[0m \u001b[31m8.8 MB/s\u001b[0m eta \u001b[36m0:00:00\u001b[0m:00:01\u001b[0m00:01\u001b[0m\n",
      "\u001b[?25hRequirement already satisfied: numpy in ./opt/anaconda3/lib/python3.9/site-packages (from casadi) (1.22.4)\n",
      "Installing collected packages: casadi\n",
      "Successfully installed casadi-3.6.2\n",
      "\n",
      "\u001b[1m[\u001b[0m\u001b[34;49mnotice\u001b[0m\u001b[1;39;49m]\u001b[0m\u001b[39;49m A new release of pip available: \u001b[0m\u001b[31;49m22.3.1\u001b[0m\u001b[39;49m -> \u001b[0m\u001b[32;49m23.1.2\u001b[0m\n",
      "\u001b[1m[\u001b[0m\u001b[34;49mnotice\u001b[0m\u001b[1;39;49m]\u001b[0m\u001b[39;49m To update, run: \u001b[0m\u001b[32;49mpip install --upgrade pip\u001b[0m\n"
     ]
    }
   ],
   "source": [
    "!pip install casadi"
   ]
  },
  {
   "cell_type": "code",
   "execution_count": null,
   "id": "318cdfe3",
   "metadata": {},
   "outputs": [],
   "source": []
  }
 ],
 "metadata": {
  "kernelspec": {
   "display_name": "Python 3 (ipykernel)",
   "language": "python",
   "name": "python3"
  },
  "language_info": {
   "codemirror_mode": {
    "name": "ipython",
    "version": 3
   },
   "file_extension": ".py",
   "mimetype": "text/x-python",
   "name": "python",
   "nbconvert_exporter": "python",
   "pygments_lexer": "ipython3",
   "version": "3.9.12"
  }
 },
 "nbformat": 4,
 "nbformat_minor": 5
}
